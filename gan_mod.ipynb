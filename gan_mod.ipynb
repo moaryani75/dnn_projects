{
 "cells": [
  {
   "cell_type": "code",
   "execution_count": 13,
   "metadata": {},
   "outputs": [],
   "source": [
    "# imports\n",
    "import numpy as np \n",
    "import matplotlib.pyplot as plt \n",
    "from tensorflow import keras\n",
    "from keras.datasets import mnist"
   ]
  },
  {
   "cell_type": "code",
   "execution_count": null,
   "metadata": {},
   "outputs": [],
   "source": [
    "# prepration \n",
    "(xtr ,ytr) ,(xte ,yte) =mnist.load_data()\n",
    "xtr_norm =((xtr-127.5)/127.5).reshape(-1,784).astype(np.float32)\n",
    "xte_norm =((xte-127.5)/127.5).reshape(-1,784).astype(np.float32)\n",
    "ytr =ytr.reshape(-1,1).astype(np.int32)\n",
    "yte =yte.reshape(-1,1).astype(np.int32) \n",
    "plt.figure(num =1 ,dpi =100 ,figsize =(10,5))\n",
    "for i in range(int(xtr.shape[0]/6000)) : \n",
    "  img =np.random.randint(0,60000 ,1)\n",
    "  plt.subplot(1,10,i+1) \n",
    "  plt.imshow(xtr[img[0]] ,cmap ='gray')\n",
    "  plt.axis('off')\n",
    "plt.tight_layout()\n",
    "plt.show()"
   ]
  }
 ],
 "metadata": {
  "kernelspec": {
   "display_name": "Python 3",
   "language": "python",
   "name": "python3"
  },
  "language_info": {
   "codemirror_mode": {
    "name": "ipython",
    "version": 3
   },
   "file_extension": ".py",
   "mimetype": "text/x-python",
   "name": "python",
   "nbconvert_exporter": "python",
   "pygments_lexer": "ipython3",
   "version": "3.12.6"
  }
 },
 "nbformat": 4,
 "nbformat_minor": 2
}
